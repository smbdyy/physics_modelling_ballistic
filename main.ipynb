{
 "cells": [
  {
   "cell_type": "code",
   "execution_count": 1,
   "metadata": {},
   "outputs": [],
   "source": [
    "import matplotlib.pyplot as plt"
   ]
  },
  {
   "cell_type": "code",
   "execution_count": 2,
   "metadata": {},
   "outputs": [],
   "source": [
    "# Константы\n",
    "pi   = 3.1415    # число пи\n",
    "R    = 6371000   # радиус Земли, м\n",
    "g    = 9.807     # ускорение свободного падения на Земле, м/c^2\n",
    "ro   = 1.2754    # начальная плотность воздуха, кг/м^3\n",
    "beta = 0.125     # константа при расчете плотности среды, км^(-1)\n",
    "# заметим что величина beta для удобства указана в км^(-1), поэтому при расчете плотности среды h нужно использовать в км."
   ]
  },
  {
   "cell_type": "code",
   "execution_count": null,
   "metadata": {},
   "outputs": [],
   "source": [
    "# Исходные данные\n",
    "m0     = 600000  # начальная полная масса, кг\n",
    "m_fuel = -1      # начальная масса топлива, кг\n",
    "m_cons = 10000   # конструкционная масса, кг\n",
    "# одна из этих переменных может быть не дана (в таком случае ее значение - -1), других двух достаточно для её расчета\n",
    "# если одна из этих переменных имеет значение -1, программа автоматически расчитает её значение\n",
    "diam    = 3      # диаметр ракеты, м\n",
    "s_cross = -1     # площадь поперечного сечения, м\n",
    "# если дан только диаметр ракеты, то в значение s_cross записывается -1 и далее s считается автоматически\n"
   ]
  }
 ],
 "metadata": {
  "kernelspec": {
   "display_name": "Python 3",
   "language": "python",
   "name": "python3"
  },
  "language_info": {
   "codemirror_mode": {
    "name": "ipython",
    "version": 3
   },
   "file_extension": ".py",
   "mimetype": "text/x-python",
   "name": "python",
   "nbconvert_exporter": "python",
   "pygments_lexer": "ipython3",
   "version": "3.7.6"
  }
 },
 "nbformat": 4,
 "nbformat_minor": 4
}
