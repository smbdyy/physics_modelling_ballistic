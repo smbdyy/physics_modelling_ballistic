{
 "cells": [
  {
   "cell_type": "code",
   "execution_count": 1,
   "metadata": {},
   "outputs": [],
   "source": [
    "import matplotlib.pyplot as plt"
   ]
  },
  {
   "cell_type": "code",
   "execution_count": 2,
   "metadata": {},
   "outputs": [],
   "source": [
    "# Константы\n",
    "pi   = 3.1415    # число пи\n",
    "R    = 6371000   # радиус Земли, м\n",
    "g    = 9.807     # ускорение свободного падения на Земле, м/c^2\n",
    "ro   = 1.2754    # начальная плотность среды, кг/м^3\n",
    "beta = 0.125     # константа при расчете плотности среды, км^(-1)\n",
    "# заметим что величина beta для удобства указана в км^(-1), поэтому при расчете плотности среды h нужно использовать в км.\n",
    "c       = 0.045  # коэффициент лобового сопротивления (в данном случае для полусферы)\n",
    "v_sound = 335    # скорость звука в воздухе, м/c"
   ]
  },
  {
   "cell_type": "code",
   "execution_count": 3,
   "metadata": {},
   "outputs": [],
   "source": [
    "# Исходные данные\n",
    "m0      = 600000  # начальная общая масса, кг\n",
    "m_fuel  = -1      # начальная масса топлива, кг\n",
    "m_cons  = 10000   # конструкционная масса, кг\n",
    "# одна из этих переменных может быть не дана (в таком случае ее значение - -1), других двух достаточно для её расчета\n",
    "# если одна из этих переменных имеет значение -1, программа автоматически расчитает её значение\n",
    "\n",
    "diam    = 3       # диаметр ракеты, м\n",
    "s_cross = -1      # площадь поперечного сечения, м\n",
    "# если дан только диаметр ракеты, то в значение s_cross записывается -1 и далее s считается автоматически\n",
    "\n",
    "alpha   = 1000    # расход топлива, кг/c\n",
    "u       = 500     # скорость истечения газов, м/c"
   ]
  },
  {
   "cell_type": "code",
   "execution_count": 4,
   "metadata": {},
   "outputs": [],
   "source": [
    "# Проверка корректности исходных данных\n",
    "if m0 == -1 and m_fuel == -1 or m0 == -1 and m_cons == -1 or m_fuel == -1 and m_cons == -1:\n",
    "    raise ValueError(\"Данных о массе недостаточно\")\n",
    "if diam == -1 and s_cross == -1:\n",
    "    raise ValueError(\"Недосаточно данных для расчета площади поперечного сечения\")\n",
    "if m0 != -1 and m0 <= 0:\n",
    "    raise ValueError(\"Некорректная общая начальная масса\")\n",
    "if m_fuel != -1 and m_fuel <= 0:\n",
    "    raise ValueError(\"Некорректная начальная масса топлива\")\n",
    "if m_cons != -1 and m_cons <= 0:\n",
    "    raise ValueError(\"Некорректная конструкционная масса\")\n",
    "if diam != -1 and diam <= 0:\n",
    "    raise ValueError(\"Некорректный диаметр ракеты\")\n",
    "if s_cross != -1 and s_cross <= 0:\n",
    "    raise ValueError(\"Некорректная площадь поперечного сечения\")"
   ]
  },
  {
   "cell_type": "code",
   "execution_count": null,
   "metadata": {},
   "outputs": [],
   "source": [
    "# Расчет недостающих исходных данных\n",
    "if m0 == -1:\n",
    "    m0 = m_fuel + m_cons\n",
    "if m_fuel == -1:\n",
    "    m_fuel = m0 - m_cons\n",
    "if m_cons == -1:\n",
    "    m_cons = m0 - m_fuel\n",
    "if s_cross == -1:\n",
    "    s_cross = diam * pi"
   ]
  }
 ],
 "metadata": {
  "kernelspec": {
   "display_name": "Python 3",
   "language": "python",
   "name": "python3"
  },
  "language_info": {
   "codemirror_mode": {
    "name": "ipython",
    "version": 3
   },
   "file_extension": ".py",
   "mimetype": "text/x-python",
   "name": "python",
   "nbconvert_exporter": "python",
   "pygments_lexer": "ipython3",
   "version": "3.7.6"
  }
 },
 "nbformat": 4,
 "nbformat_minor": 4
}
