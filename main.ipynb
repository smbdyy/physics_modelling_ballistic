{
 "cells": [
  {
   "cell_type": "code",
   "execution_count": 1,
   "metadata": {},
   "outputs": [],
   "source": [
    "import matplotlib.pyplot as plt\n",
    "from matplotlib.pyplot import figure\n",
    "import math\n",
    "import numpy as np"
   ]
  },
  {
   "cell_type": "code",
   "execution_count": 2,
   "metadata": {},
   "outputs": [],
   "source": [
    "# Константы\n",
    "pi   = 3.1415    # число пи\n",
    "g    = 9.807     # ускорение свободного падения на Земле, м/c^2\n",
    "rho   = 1.2754   # плотность воздуха, кг/м^3\n",
    "\n",
    "c       = 0.045  # коэффициент лобового сопротивления (в данном случае для полусферы)\n",
    "v_sound = 335    # скорость звука в воздухе, м/c"
   ]
  },
  {
   "cell_type": "code",
   "execution_count": 3,
   "metadata": {},
   "outputs": [],
   "source": [
    "# Исходные данные\n",
    "m0      = 200000  # начальная общая масса, кг\n",
    "m_fuel  = -1      # начальная масса топлива, кг\n",
    "m_cons  = 10000   # конструкционная масса, кг\n",
    "# одна из этих переменных может быть не дана (в таком случае ее значение - -1), других двух достаточно для её расчета\n",
    "# если одна из этих переменных имеет значение -1, программа автоматически рассчитает её значение\n",
    "\n",
    "diam    = 1.5     # диаметр ракеты, м\n",
    "s_cross = -1      # площадь поперечного сечения, м\n",
    "# если дан только диаметр ракеты, то в значение s_cross записывается -1 и далее s считается автоматически\n",
    "\n",
    "alpha   = 5000    # расход топлива, кг/c\n",
    "u       = 600     # скорость истечения газов, м/c"
   ]
  },
  {
   "cell_type": "code",
   "execution_count": 4,
   "metadata": {},
   "outputs": [],
   "source": [
    "# Проверка корректности исходных данных\n",
    "if m0 == -1 and m_fuel == -1 or m0 == -1 and m_cons == -1 or m_fuel == -1 and m_cons == -1:\n",
    "    raise ValueError(\"Данных о массе недостаточно\")\n",
    "if diam == -1 and s_cross == -1:\n",
    "    raise ValueError(\"Недосаточно данных для расчета площади поперечного сечения\")\n",
    "if m0 != -1 and m0 <= 0:\n",
    "    raise ValueError(\"Некорректная общая начальная масса\")\n",
    "if m_fuel != -1 and m_fuel <= 0:\n",
    "    raise ValueError(\"Некорректная начальная масса топлива\")\n",
    "if m_cons != -1 and m_cons <= 0:\n",
    "    raise ValueError(\"Некорректная конструкционная масса\")\n",
    "if diam != -1 and diam <= 0:\n",
    "    raise ValueError(\"Некорректный диаметр ракеты\")\n",
    "if s_cross != -1 and s_cross <= 0:\n",
    "    raise ValueError(\"Некорректная площадь поперечного сечения\")\n",
    "if u <= 0 or u > 6666:\n",
    "    raise ValueError(\"Некорректная скорость истечения газов\")"
   ]
  },
  {
   "cell_type": "code",
   "execution_count": 5,
   "metadata": {},
   "outputs": [],
   "source": [
    "# Расчет недостающих исходных данных\n",
    "if m0 == -1:\n",
    "    m0 = m_fuel + m_cons\n",
    "if m_fuel == -1:\n",
    "    m_fuel = m0 - m_cons\n",
    "if m_cons == -1:\n",
    "    m_cons = m0 - m_fuel\n",
    "if s_cross == -1:\n",
    "    s_cross = diam * pi"
   ]
  },
  {
   "cell_type": "code",
   "execution_count": 6,
   "metadata": {},
   "outputs": [],
   "source": [
    "# Вертикальный взлет\n",
    "def m(t):\n",
    "    global alpha\n",
    "    global m0\n",
    "    global m_cons\n",
    "    if m0 - alpha * t > m_cons:\n",
    "        return m0 - alpha * t\n",
    "    return m_cons\n",
    "def f_vertical(t, v):\n",
    "    global alpha\n",
    "    global u\n",
    "    global c\n",
    "    global s_cross\n",
    "    global rho\n",
    "    global g\n",
    "    return (alpha * u - 0.5 * c * s_cross * rho * v**2) / m(t) - g\n",
    "t = 0\n",
    "v0 = 0\n",
    "h0 = 0\n",
    "while v0 < v_sound:\n",
    "    t += 0.1\n",
    "    if m0 - alpha * t < m_cons:\n",
    "        print(\"Недостаточно топлива\")\n",
    "        raise SystemExit\n",
    "    v0 += 0.1 * f_vertical(t - 0.1, v0)\n",
    "    h0 = f_vertical(t, v0) * t**2 / 2 \n",
    "t1 = t"
   ]
  },
  {
   "cell_type": "code",
   "execution_count": 7,
   "metadata": {},
   "outputs": [],
   "source": [
    "# Горизонтальное движение\n",
    "def f_horizontal_y(t, v):\n",
    "    global alpha\n",
    "    global u\n",
    "    global c\n",
    "    global s_cross\n",
    "    global rho\n",
    "    global g\n",
    "    global t1\n",
    "    return (g - 0.5 * c * s_cross * rho * v**2) / m(t1)\n",
    "def f_horizontal_x(t, v):\n",
    "    global alpha\n",
    "    global u\n",
    "    global c\n",
    "    global s_cross\n",
    "    global rho\n",
    "    global g\n",
    "    global t1\n",
    "    return (-0.5 * c * s_cross * rho * v**2) / m(t1)\n",
    "\n",
    "t = 0\n",
    "vy = 0\n",
    "vx = v0\n",
    "h = h0\n",
    "l = 0\n",
    "x_dots = [0, 0]\n",
    "y_dots = [0, h0]\n",
    "\n",
    "\n",
    "while h > 0:\n",
    "    t += 0.1\n",
    "    vy += 0.1 * f_horizontal_y(t - 0.1, vy)\n",
    "    h = h0 - (g - f_horizontal_y(t, vy)) * t**2 / 2\n",
    "    vx += 0.1 * f_horizontal_x(t - 0.1, vx)\n",
    "    l = v0 * t + f_horizontal_x(t, vx) * t**2 / 2\n",
    "    x_dots.append(l)\n",
    "    y_dots.append(h)"
   ]
  },
  {
   "cell_type": "code",
   "execution_count": 8,
   "metadata": {},
   "outputs": [
    {
     "name": "stdout",
     "output_type": "stream",
     "text": [
      "Скорость звука достигается за 25 секунд на высоте 9062 метров.\n",
      "Длительность всего полёта - 68 секунд.\n",
      "Горизонтальное расстояние, пройденное ракетой - 14242 метров.\n",
      "Траектория полёта:\n"
     ]
    },
    {
     "data": {
      "image/png": "[encoded data removed]",
      "text/plain": [
       "<Figure size 432x288 with 1 Axes>"
      ]
     },
     "metadata": {
      "needs_background": "light"
     },
     "output_type": "display_data"
    }
   ],
   "source": [
    "# Вывод результатов\n",
    "print(\"Скорость звука достигается за\", round(t1), \"секунд на высоте\", round(h0), \"метров.\")\n",
    "print(\"Длительность всего полёта -\", round(t + t1), \"секунд.\")\n",
    "print(\"Горизонтальное расстояние, пройденное ракетой -\", round(l), \"метров.\")\n",
    "print(\"Траектория полёта:\")\n",
    "plt.plot(x_dots, y_dots)\n",
    "plt.xlabel(\"x\")\n",
    "plt.ylabel(\"y\")\n",
    "plt.rcParams['figure.figsize'] = [15, 10]\n",
    "plt.show()"
   ]
  },
  {
   "cell_type": "code",
   "execution_count": null,
   "metadata": {},
   "outputs": [],
   "source": []
  }
 ],
 "metadata": {
  "kernelspec": {
   "display_name": "Python 3",
   "language": "python",
   "name": "python3"
  },
  "language_info": {
   "codemirror_mode": {
    "name": "ipython",
    "version": 3
   },
   "file_extension": ".py",
   "mimetype": "text/x-python",
   "name": "python",
   "nbconvert_exporter": "python",
   "pygments_lexer": "ipython3",
   "version": "3.7.6"
  }
 },
 "nbformat": 4,
 "nbformat_minor": 4
}
